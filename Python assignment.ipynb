{
 "cells": [
  {
   "cell_type": "markdown",
   "id": "265df832-0f9b-4f36-8c4c-e229720e7460",
   "metadata": {
    "tags": []
   },
   "source": [
    "# My Jupyter Notebook on IBM Watson Studio"
   ]
  },
  {
   "cell_type": "markdown",
   "id": "524f548f-24ea-4705-9262-6a97e925a07a",
   "metadata": {},
   "source": [
    "**Deepak Kumar Prasad**  <br/> Team Lead      Data Scientist "
   ]
  },
  {
   "cell_type": "markdown",
   "id": "440ca205-9315-4ee6-bcf4-fa3fc5da452b",
   "metadata": {},
   "source": [
    "*I am interested in data science because ... I love plying with data as well as enjoy learning technologies.*"
   ]
  },
  {
   "cell_type": "markdown",
   "id": "531e0874-154e-4eb9-894b-d8febfb9f71c",
   "metadata": {},
   "source": [
    "### In the next cell i am going to create a ndarray using numpy library and will do multipication on the same"
   ]
  },
  {
   "cell_type": "code",
   "execution_count": 4,
   "id": "80f0248d-3ef2-49e5-a122-19ee81f2785b",
   "metadata": {},
   "outputs": [
    {
     "name": "stdout",
     "output_type": "stream",
     "text": [
      "[0 1 2 3 4]\n"
     ]
    },
    {
     "data": {
      "text/plain": [
       "array([0, 2, 4, 6, 8])"
      ]
     },
     "execution_count": 4,
     "metadata": {},
     "output_type": "execute_result"
    }
   ],
   "source": [
    "import numpy as np\n",
    "x1=np.arange(5)\n",
    "print(x1)\n",
    "x2 = x1*2\n",
    "x2"
   ]
  },
  {
   "cell_type": "markdown",
   "id": "d962e66d-71ce-4316-a1db-92b5bb509a47",
   "metadata": {},
   "source": [
    "My area of interst are : \n",
    "\n",
    "| Tables        | Are           |\n",
    "| ------------- |:-------------:|\n",
    "| Travelling    | Learning new languages |\n",
    "| Cooking       | sports      |\n",
    "\n",
    "\n",
    "<li>First item</li>\n",
    "<li>Second item</li>\n",
    "\n",
    "[Want to know more - Search here ](https://www.google.com \"Google's Homepage\")"
   ]
  },
  {
   "cell_type": "code",
   "execution_count": null,
   "id": "c4f56d28-a419-4a3b-b0bb-a03a6175bd2b",
   "metadata": {},
   "outputs": [],
   "source": []
  }
 ],
 "metadata": {
  "kernelspec": {
   "display_name": "Python",
   "language": "python",
   "name": "conda-env-python-py"
  },
  "language_info": {
   "codemirror_mode": {
    "name": "ipython",
    "version": 3
   },
   "file_extension": ".py",
   "mimetype": "text/x-python",
   "name": "python",
   "nbconvert_exporter": "python",
   "pygments_lexer": "ipython3",
   "version": "3.7.12"
  }
 },
 "nbformat": 4,
 "nbformat_minor": 5
}
